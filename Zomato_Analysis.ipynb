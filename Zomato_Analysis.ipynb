{
  "nbformat": 4,
  "nbformat_minor": 0,
  "metadata": {
    "colab": {
      "provenance": []
    },
    "kernelspec": {
      "name": "python3",
      "display_name": "Python 3"
    },
    "language_info": {
      "name": "python"
    }
  },
  "cells": [
    {
      "cell_type": "markdown",
      "source": [
        "### 1- Data Preparation"
      ],
      "metadata": {
        "id": "9Y2LxvMzpqeq"
      }
    },
    {
      "cell_type": "code",
      "execution_count": 3,
      "metadata": {
        "colab": {
          "base_uri": "https://localhost:8080/"
        },
        "id": "GoHkXW3lofpW",
        "outputId": "0bd48983-4630-4251-b46b-23f33c00be7a"
      },
      "outputs": [
        {
          "output_type": "stream",
          "name": "stdout",
          "text": [
            "Drive already mounted at /content/drive; to attempt to forcibly remount, call drive.mount(\"/content/drive\", force_remount=True).\n"
          ]
        }
      ],
      "source": [
        "import pandas as pd\n",
        "\n",
        "from google.colab import drive\n",
        "drive.mount(\"/content/drive\")\n",
        "df = pd.read_csv('/content/drive/MyDrive/Colab Notebooks/zomato_analysis.csv')\n",
        "\n",
        "# Load your dataset\n",
        "df = pd.read_csv('/content/drive/MyDrive/Colab Notebooks/zomato_analysis.csv')\n",
        "\n",
        "# Preliminary cleaning might include handling missing values, fixing data types, etc.\n",
        "# For example, cleaning the 'rate' column\n",
        "df['rate'] = df['rate'].replace('NEW', None)\n",
        "df['rate'] = df['rate'].replace('-', None)\n",
        "df['rate'] = df['rate'].apply(lambda x : float(x.split('/')[0]) if type(x)==str else x)\n"
      ]
    },
    {
      "cell_type": "markdown",
      "source": [
        "### 2- Analysis and Exporting Results"
      ],
      "metadata": {
        "id": "ub2W6S5hp2lm"
      }
    },
    {
      "cell_type": "markdown",
      "source": [
        "--> Price Range Analysis"
      ],
      "metadata": {
        "id": "UXUfq5VurJnV"
      }
    },
    {
      "cell_type": "code",
      "source": [
        "# Convert 'approx_cost(for two people)' to a numeric type\n",
        "df['approx_cost(for two people)'] = pd.to_numeric(df['approx_cost(for two people)'].str.replace(',', '').replace('₹', ''), errors='coerce')\n",
        "\n",
        "# Now, perform the price range analysis\n",
        "price_range_analysis = df.groupby(['location', 'cuisines'])['approx_cost(for two people)'].mean().reset_index()\n",
        "\n",
        "# Export the analysis results\n",
        "price_range_analysis.to_csv('price_range_analysis_results.csv', index=False)\n"
      ],
      "metadata": {
        "id": "Pt3c_RXfrL8T"
      },
      "execution_count": 8,
      "outputs": []
    },
    {
      "cell_type": "markdown",
      "source": [
        "--> Popularity and Engagement Analysis"
      ],
      "metadata": {
        "id": "8H78EoL9rPzh"
      }
    },
    {
      "cell_type": "code",
      "source": [
        "popularity_analysis = df.groupby('name').agg({'votes': 'sum', 'rate': 'mean'}).reset_index()\n",
        "\n",
        "popularity_analysis.to_csv('popularity_analysis_results.csv', index=False)\n"
      ],
      "metadata": {
        "id": "xPO9UKUirTXC"
      },
      "execution_count": 10,
      "outputs": []
    },
    {
      "cell_type": "markdown",
      "source": [
        "--> Cuisine and Dish Preferences"
      ],
      "metadata": {
        "id": "WNujvorVrV_E"
      }
    },
    {
      "cell_type": "code",
      "source": [
        "# This is a bit more complex and might require text analysis on 'dish_liked' and 'cuisines'\n",
        "# For a simple aggregation:\n",
        "popular_cuisines = df['cuisines'].value_counts().reset_index().rename(columns={'index': 'cuisine', 'cuisines': 'count'})\n",
        "\n",
        "popular_cuisines.to_csv('cuisine_preferences_results.csv', index=False)\n"
      ],
      "metadata": {
        "id": "nVaHAonQrYcG"
      },
      "execution_count": 11,
      "outputs": []
    },
    {
      "cell_type": "markdown",
      "source": [
        "--> Restaurant Accessibility Analysis"
      ],
      "metadata": {
        "id": "NFhZlX-nrbOz"
      }
    },
    {
      "cell_type": "code",
      "source": [
        "accessibility_analysis = df.groupby(['location', 'online_order', 'book_table']).size().reset_index(name='count')\n",
        "\n",
        "accessibility_analysis.to_csv('accessibility_analysis_results.csv', index=False)\n"
      ],
      "metadata": {
        "id": "DJaeQWhCrcdb"
      },
      "execution_count": 12,
      "outputs": []
    },
    {
      "cell_type": "markdown",
      "source": [
        "### 3- Visualization in Power BI"
      ],
      "metadata": {
        "id": "iF5jHa5rrg3I"
      }
    },
    {
      "cell_type": "code",
      "source": [
        "# Dashboard on PowerBI file and Export PDF"
      ],
      "metadata": {
        "id": "YKcWvY0vrkg-"
      },
      "execution_count": null,
      "outputs": []
    }
  ]
}